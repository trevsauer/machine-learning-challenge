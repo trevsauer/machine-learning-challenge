{
 "cells": [
  {
   "cell_type": "code",
   "execution_count": 1,
   "metadata": {},
   "outputs": [
    {
     "name": "stdout",
     "output_type": "stream",
     "text": [
      "Requirement already up-to-date: sklearn in c:\\users\\trevor.sauerbrey\\anaconda3.7\\lib\\site-packages (0.0)\n",
      "Requirement already satisfied, skipping upgrade: scikit-learn in c:\\users\\trevor.sauerbrey\\anaconda3.7\\lib\\site-packages (from sklearn) (0.22.1)\n",
      "Requirement already satisfied, skipping upgrade: numpy>=1.11.0 in c:\\users\\trevor.sauerbrey\\anaconda3.7\\lib\\site-packages (from scikit-learn->sklearn) (1.18.1)\n",
      "Requirement already satisfied, skipping upgrade: scipy>=0.17.0 in c:\\users\\trevor.sauerbrey\\anaconda3.7\\lib\\site-packages (from scikit-learn->sklearn) (1.4.1)\n",
      "Requirement already satisfied, skipping upgrade: joblib>=0.11 in c:\\users\\trevor.sauerbrey\\anaconda3.7\\lib\\site-packages (from scikit-learn->sklearn) (0.14.1)\n"
     ]
    }
   ],
   "source": [
    "# Update sklearn to prevent version mismatches\n",
    "!pip install sklearn --upgrade"
   ]
  },
  {
   "cell_type": "code",
   "execution_count": null,
   "metadata": {},
   "outputs": [],
   "source": [
    "# install joblib. This will be used to save your model. \n",
    "# Restart your kernel after installing \n",
    "!pip install joblib"
   ]
  },
  {
   "cell_type": "code",
   "execution_count": null,
   "metadata": {},
   "outputs": [],
   "source": [
    "import pandas as pd"
   ]
  },
  {
   "cell_type": "markdown",
   "metadata": {},
   "source": [
    "# Read the CSV and Perform Basic Data Cleaning"
   ]
  },
  {
   "cell_type": "code",
   "execution_count": null,
   "metadata": {},
   "outputs": [],
   "source": [
    "df = pd.read_csv(\"exoplanet_data.csv\")\n",
    "# Drop the null columns where all values are null\n",
    "df = df.dropna(axis='columns', how='all')\n",
    "# Drop the null rows\n",
    "df = df.dropna()\n",
    "df.head()"
   ]
  },
  {
   "cell_type": "markdown",
   "metadata": {},
   "source": [
    "# Select your features (columns)"
   ]
  },
  {
   "cell_type": "code",
   "execution_count": null,
   "metadata": {},
   "outputs": [],
   "source": [
    "# Set features. This will also be used as your x values.\n",
    "# selected_features = df[['names', 'of', 'selected', 'features', 'here']]\n",
    "data = df.drop(\"koi_disposition\", axis=1)\n",
    "feature_names = data.columns\n",
    "data.head()"
   ]
  },
  {
   "cell_type": "markdown",
   "metadata": {},
   "source": [
    "# Create a Train Test Split\n",
    "\n",
    "Use `koi_disposition` for the y values"
   ]
  },
  {
   "cell_type": "code",
   "execution_count": null,
   "metadata": {},
   "outputs": [],
   "source": [
    "target_names = [\"CONFIRMED\", \"FALSE POSITIVE\", \"CANDIDATE\", \"NOT DISPOSITIONED\"]\n",
    "target = df[\"koi_disposition\"]"
   ]
  },
  {
   "cell_type": "code",
   "execution_count": null,
   "metadata": {},
   "outputs": [],
   "source": [
    "from sklearn.model_selection import train_test_split\n",
    "X_train, X_test, y_train, y_test = train_test_split(data, target, random_state=42)"
   ]
  },
  {
   "cell_type": "code",
   "execution_count": null,
   "metadata": {},
   "outputs": [],
   "source": [
    "X_train.head()"
   ]
  },
  {
   "cell_type": "markdown",
   "metadata": {},
   "source": [
    "# Train the Model\n",
    "\n"
   ]
  },
  {
   "cell_type": "code",
   "execution_count": null,
   "metadata": {},
   "outputs": [],
   "source": [
    "from sklearn.ensemble import RandomForestClassifier\n",
    "rf = RandomForestClassifier(n_estimators=500)\n",
    "rf = rf.fit(X_train, y_train)\n",
    "rf.score(X_test, y_test)"
   ]
  },
  {
   "cell_type": "code",
   "execution_count": 18,
   "metadata": {},
   "outputs": [
    {
     "data": {
      "text/plain": [
       "[(0.10696622654412632, 'koi_fpflag_co'),\n",
       " (0.10115330754716731, 'koi_fpflag_nt'),\n",
       " (0.07240921333875487, 'koi_fpflag_ss'),\n",
       " (0.0543894939680069, 'koi_model_snr'),\n",
       " (0.04452477286385477, 'koi_prad'),\n",
       " (0.03521482120635226, 'koi_fpflag_ec'),\n",
       " (0.03412761201971429, 'koi_duration_err1'),\n",
       " (0.032245033198739864, 'koi_prad_err1'),\n",
       " (0.03222771369609856, 'koi_duration_err2'),\n",
       " (0.03182746110132868, 'koi_prad_err2'),\n",
       " (0.031640976937507274, 'koi_steff_err2'),\n",
       " (0.029965201019536754, 'koi_steff_err1'),\n",
       " (0.023475693978802923, 'koi_time0bk_err1'),\n",
       " (0.02255933436269905, 'koi_period'),\n",
       " (0.021772343117677923, 'koi_time0bk_err2'),\n",
       " (0.021711465153633043, 'koi_duration'),\n",
       " (0.021164448735327804, 'koi_depth'),\n",
       " (0.019140859543026485, 'koi_insol_err1'),\n",
       " (0.01912997462015876, 'koi_impact'),\n",
       " (0.017740515447631094, 'koi_period_err1'),\n",
       " (0.017340455114198978, 'koi_period_err2'),\n",
       " (0.015319843342118116, 'koi_teq'),\n",
       " (0.015311430951091016, 'koi_insol_err2'),\n",
       " (0.015214992802701058, 'koi_insol'),\n",
       " (0.013558736795998868, 'koi_depth_err1'),\n",
       " (0.013156022871984802, 'koi_time0bk'),\n",
       " (0.012977523471158462, 'koi_depth_err2'),\n",
       " (0.011822058442099702, 'ra'),\n",
       " (0.011442600702904029, 'koi_srad_err1'),\n",
       " (0.011291775403481188, 'dec'),\n",
       " (0.01108341992506034, 'koi_impact_err1'),\n",
       " (0.011059411716535301, 'koi_impact_err2'),\n",
       " (0.010326145631350073, 'koi_kepmag'),\n",
       " (0.010147275095159395, 'koi_slogg_err2'),\n",
       " (0.009445270634073341, 'koi_steff'),\n",
       " (0.00872248548323842, 'koi_srad'),\n",
       " (0.008715464869215338, 'koi_slogg_err1'),\n",
       " (0.008418440440942653, 'koi_slogg'),\n",
       " (0.008366563448740288, 'koi_srad_err2'),\n",
       " (0.0028936144578038023, 'koi_tce_plnt_num')]"
      ]
     },
     "execution_count": 18,
     "metadata": {},
     "output_type": "execute_result"
    }
   ],
   "source": [
    "sorted(zip(rf.feature_importances_, feature_names), reverse=True)"
   ]
  },
  {
   "cell_type": "markdown",
   "metadata": {},
   "source": [
    "# Save the Model"
   ]
  },
  {
   "cell_type": "code",
   "execution_count": 19,
   "metadata": {},
   "outputs": [
    {
     "data": {
      "text/plain": [
       "['tom_wheeler_forest.sav']"
      ]
     },
     "execution_count": 19,
     "metadata": {},
     "output_type": "execute_result"
    }
   ],
   "source": [
    "# save your model by updating \"your_name\" with your name\n",
    "# and \"your_model\" with your model variable\n",
    "# be sure to turn this in to BCS\n",
    "# if joblib fails to import, try running the command to install in terminal/git-bash\n",
    "import joblib\n",
    "filename = 'trevor_sauerbrey_forest.sav'\n",
    "joblib.dump(rf, filename)"
   ]
  },
  {
   "cell_type": "code",
   "execution_count": null,
   "metadata": {},
   "outputs": [],
   "source": []
  }
 ],
 "metadata": {
  "kernel_info": {
   "name": "dev"
  },
  "kernelspec": {
   "display_name": "Python 3",
   "language": "python",
   "name": "python3"
  },
  "language_info": {
   "codemirror_mode": {
    "name": "ipython",
    "version": 3
   },
   "file_extension": ".py",
   "mimetype": "text/x-python",
   "name": "python",
   "nbconvert_exporter": "python",
   "pygments_lexer": "ipython3",
   "version": "3.7.6"
  },
  "nteract": {
   "version": "0.12.3"
  }
 },
 "nbformat": 4,
 "nbformat_minor": 4
}
